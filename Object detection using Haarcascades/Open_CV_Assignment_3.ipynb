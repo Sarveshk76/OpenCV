{
 "cells": [
  {
   "cell_type": "code",
   "execution_count": 2,
   "id": "ed2b2c3f",
   "metadata": {},
   "outputs": [],
   "source": [
    "import numpy as np\n",
    "import cv2 as cv"
   ]
  },
  {
   "cell_type": "code",
   "execution_count": 9,
   "id": "c1f6f763",
   "metadata": {},
   "outputs": [],
   "source": [
    "# Loads all the classifiers\n",
    "face_cascade = cv.CascadeClassifier('haarcascade_frontalface_default.xml')\n",
    "eye_cascade = cv.CascadeClassifier('haarcascade_eye.xml')\n",
    "fullbody_cascade = cv.CascadeClassifier('haarcascade_fullbody.xml')\n",
    "cars_cascade = cv.CascadeClassifier('cars.xml')\n",
    "bus_cascade = cv.CascadeClassifier('bus.xml')\n",
    "\n",
    "# Loads all the images\n",
    "img = cv.imread('face.jpg')\n",
    "body = cv.imread('body.jpg')\n",
    "car = cv.imread('cars.jpg')"
   ]
  },
  {
   "cell_type": "code",
   "execution_count": 4,
   "id": "a1fcdd15",
   "metadata": {},
   "outputs": [],
   "source": [
    "def object_detection(image, cascade, text, color = (255, 0, 0)):\n",
    "    \n",
    "    # Our operations on the frame come here\n",
    "    gray = cv.cvtColor(image, cv.COLOR_BGR2GRAY)\n",
    "    objects = cascade.detectMultiScale(gray, 1.3, 5)\n",
    "    for (x, y, w, h) in objects:\n",
    "        \n",
    "        # Draws rectangle around the objects\n",
    "        image = cv.rectangle(image, (x,y), (x+w , y+h), color, 2)\n",
    "        \n",
    "        # Display text on top of rectangle\n",
    "        cv.putText(image, text, (x, y-10), cv.FONT_HERSHEY_SIMPLEX, 0.9, color, 2)\n",
    "        \n",
    "    # Display the resulting frame\n",
    "    cv.imshow('img', image)"
   ]
  },
  {
   "cell_type": "code",
   "execution_count": 5,
   "id": "608e4e44",
   "metadata": {},
   "outputs": [],
   "source": [
    "# Detects the faces\n",
    "object_detection(img, face_cascade, 'face')\n",
    "cv.waitKey(0)\n",
    "# Closes the image window\n",
    "cv.destroyAllWindows()\n",
    "\n",
    "# Detects the eyes\n",
    "object_detection(img, eye_cascade, 'eye')\n",
    "cv.waitKey(0)\n",
    "# Closes the image window\n",
    "cv.destroyAllWindows()\n",
    "\n",
    "# Detects the eyes\n",
    "object_detection(car, cars_cascade, 'car')\n",
    "cv.waitKey(0)\n",
    "# Closes the image window\n",
    "cv.destroyAllWindows()"
   ]
  },
  {
   "cell_type": "code",
   "execution_count": 6,
   "id": "90a0a9d8",
   "metadata": {},
   "outputs": [],
   "source": [
    "cap = cv.VideoCapture(0)\n",
    "\n",
    "while(True):\n",
    "    # Capture frame-by-frame\n",
    "    ret, frame = cap.read()\n",
    "\n",
    "    # Our operations on the frame come here\n",
    "    gray = cv.cvtColor(frame, cv.COLOR_BGR2GRAY)\n",
    "    \n",
    "    faces = face_cascade.detectMultiScale(gray, 1.3, 5)\n",
    "    for (x, y, w, h) in faces:\n",
    "        frame = cv.rectangle(frame, (x,y), (x+w , y+h), (255, 0, 0), 2)\n",
    "        roi_gray = gray[y:y+h, x:x+w]\n",
    "        roi_color = frame[y:y+h, x:x+w]\n",
    "        eyes = eye_cascade.detectMultiScale(roi_gray)\n",
    "        for (ex, ey, ew, eh) in eyes:\n",
    "            cv.rectangle(roi_color, (ex,ey), (ex+ew , ey+eh), (0, 255, 0), 2)\n",
    "\n",
    "#     # Display the resulting frame\n",
    "    cv.imshow('frame', frame)\n",
    "    object_detection(frame, face_cascade, 'face')\n",
    "    object_detection(frame, eye_cascade, 'eye')\n",
    "    # Waits for Q key to quit\n",
    "    if cv.waitKey(1) & 0xFF == ord('q'):\n",
    "        break\n",
    "\n",
    "# When everything done, release the capture\n",
    "cap.release()\n",
    "cv.destroyAllWindows()"
   ]
  },
  {
   "cell_type": "code",
   "execution_count": 7,
   "id": "4c637859",
   "metadata": {},
   "outputs": [],
   "source": [
    "# Loads the video\n",
    "cap = cv.VideoCapture('cars.mov')\n",
    "\n",
    "while(True):\n",
    "    \n",
    "    # Capture frame-by-frame\n",
    "    ret, frame = cap.read()\n",
    "    \n",
    "    # Breaks at the end of video\n",
    "    if (type(frame) == type(None)):\n",
    "        break\n",
    "        \n",
    "    # Calls the object detection function\n",
    "    object_detection(frame, cars_cascade, 'car')\n",
    "    \n",
    "    if cv.waitKey(1) & 0xFF == ord('q'):\n",
    "        break\n",
    "\n",
    "# When everything done, release the capture\n",
    "cap.release()\n",
    "cv.destroyAllWindows()"
   ]
  },
  {
   "cell_type": "code",
   "execution_count": 10,
   "id": "e119eef6",
   "metadata": {},
   "outputs": [],
   "source": [
    "# Loads the video\n",
    "cap = cv.VideoCapture('pedestrians.mp4')\n",
    "\n",
    "while(True):\n",
    "    \n",
    "    # Capture frame-by-frame\n",
    "    ret, frame = cap.read()\n",
    "    \n",
    "    # Breaks at the end of video\n",
    "    if (type(frame) == type(None)):\n",
    "        break\n",
    "        \n",
    "    # Calls the object detection function\n",
    "    object_detection(frame, fullbody_cascade, 'human')\n",
    "    \n",
    "    if cv.waitKey(1) & 0xFF == ord('q'):\n",
    "        break\n",
    "\n",
    "# When everything done, release the capture\n",
    "cap.release()\n",
    "cv.destroyAllWindows()"
   ]
  },
  {
   "cell_type": "code",
   "execution_count": null,
   "id": "e682cbbc",
   "metadata": {},
   "outputs": [],
   "source": []
  }
 ],
 "metadata": {
  "kernelspec": {
   "display_name": "Python 3",
   "language": "python",
   "name": "python3"
  },
  "language_info": {
   "codemirror_mode": {
    "name": "ipython",
    "version": 3
   },
   "file_extension": ".py",
   "mimetype": "text/x-python",
   "name": "python",
   "nbconvert_exporter": "python",
   "pygments_lexer": "ipython3",
   "version": "3.8.8"
  }
 },
 "nbformat": 4,
 "nbformat_minor": 5
}
